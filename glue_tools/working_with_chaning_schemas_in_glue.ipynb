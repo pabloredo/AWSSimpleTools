{
 "cells": [
  {
   "cell_type": "markdown",
   "metadata": {},
   "source": [
    "# Working with unpredictibly changing schemas"
   ]
  },
  {
   "cell_type": "markdown",
   "metadata": {},
   "source": [
    "This notebook describe sample code snippets for handling source schema changes in AWS Glue. \n",
    "\n",
    "DISCLAIMER: This is sample code and is provided 'as is'. Should only be used as reference and we assume no responsability for errors"
   ]
  },
  {
   "cell_type": "code",
   "execution_count": 1,
   "metadata": {},
   "outputs": [
    {
     "name": "stdout",
     "output_type": "stream",
     "text": [
      "Starting Spark application\n"
     ]
    },
    {
     "data": {
      "text/html": [
       "<table>\n",
       "<tr><th>ID</th><th>YARN Application ID</th><th>Kind</th><th>State</th><th>Spark UI</th><th>Driver log</th><th>Current session?</th></tr><tr><td>6</td><td>application_1581610574402_0007</td><td>pyspark</td><td>idle</td><td><a target=\"_blank\" href=\"http://ip-172-31-74-209.ec2.internal:20888/proxy/application_1581610574402_0007/\">Link</a></td><td><a target=\"_blank\" href=\"http://ip-172-31-77-88.ec2.internal:8042/node/containerlogs/container_1581610574402_0007_01_000001/livy\">Link</a></td><td>✔</td></tr></table>"
      ],
      "text/plain": [
       "<IPython.core.display.HTML object>"
      ]
     },
     "metadata": {},
     "output_type": "display_data"
    },
    {
     "data": {
      "application/vnd.jupyter.widget-view+json": {
       "model_id": "",
       "version_major": 2,
       "version_minor": 0
      },
      "text/plain": [
       "FloatProgress(value=0.0, bar_style='info', description='Progress:', layout=Layout(height='25px', width='50%'),…"
      ]
     },
     "metadata": {},
     "output_type": "display_data"
    },
    {
     "name": "stdout",
     "output_type": "stream",
     "text": [
      "SparkSession available as 'spark'.\n"
     ]
    },
    {
     "data": {
      "application/vnd.jupyter.widget-view+json": {
       "model_id": "",
       "version_major": 2,
       "version_minor": 0
      },
      "text/plain": [
       "FloatProgress(value=0.0, bar_style='info', description='Progress:', layout=Layout(height='25px', width='50%'),…"
      ]
     },
     "metadata": {},
     "output_type": "display_data"
    }
   ],
   "source": [
    "import sys\n",
    "from awsglue.transforms import *\n",
    "from pyspark.context import SparkContext\n",
    "from awsglue.context import GlueContext\n",
    "from awsglue.job import Job\n",
    "\n",
    "glueContext = GlueContext(SparkContext.getOrCreate())"
   ]
  },
  {
   "cell_type": "markdown",
   "metadata": {},
   "source": [
    "## Source dataset could have new columns over time.\n",
    "\n",
    "One option is to treat new columns as custom fields. To keep output dataset consistant we can add them as one field with a self defining format (e.g. JSON). Keep in mind that new columns cannot grow indefinitely as there could be limitations on the size fo the JSON string/document.  \n",
    "\n",
    "1. Use Dynamicframe to read latest schema directly from the Glue Catalog. New columns will be updated via an AWS Glue Crawler. Assuming the crawler configuration allows updates when new columns are identified."
   ]
  },
  {
   "cell_type": "code",
   "execution_count": 7,
   "metadata": {
    "scrolled": true
   },
   "outputs": [
    {
     "data": {
      "application/vnd.jupyter.widget-view+json": {
       "model_id": "",
       "version_major": 2,
       "version_minor": 0
      },
      "text/plain": [
       "FloatProgress(value=0.0, bar_style='info', description='Progress:', layout=Layout(height='25px', width='50%'),…"
      ]
     },
     "metadata": {},
     "output_type": "display_data"
    },
    {
     "name": "stdout",
     "output_type": "stream",
     "text": [
      "root\n",
      "|-- date: string\n",
      "|-- categories: string\n",
      "|-- geo: string\n",
      "|-- revenue: double\n",
      "|-- store: string\n",
      "|-- cost: double\n",
      "|-- profit: string"
     ]
    }
   ],
   "source": [
    "sales_source = glueContext.create_dynamic_frame.from_catalog(database=\"sales\", table_name=\"sales\")\n",
    "sales_source.printSchema()"
   ]
  },
  {
   "cell_type": "markdown",
   "metadata": {},
   "source": [
    "2. Use the Map function to rebuild schema."
   ]
  },
  {
   "cell_type": "code",
   "execution_count": 8,
   "metadata": {},
   "outputs": [
    {
     "data": {
      "application/vnd.jupyter.widget-view+json": {
       "model_id": "",
       "version_major": 2,
       "version_minor": 0
      },
      "text/plain": [
       "FloatProgress(value=0.0, bar_style='info', description='Progress:', layout=Layout(height='25px', width='50%'),…"
      ]
     },
     "metadata": {},
     "output_type": "display_data"
    },
    {
     "name": "stdout",
     "output_type": "stream",
     "text": [
      "root\n",
      "|-- date: string\n",
      "|-- categories: string\n",
      "|-- revenue: double\n",
      "|-- custom_fields: struct\n",
      "|    |-- cost: string\n",
      "|    |-- store: string\n",
      "|    |-- profit: string\n",
      "|-- geo: string"
     ]
    }
   ],
   "source": [
    "import json\n",
    "\n",
    "static_fields = ['date', 'categories','geo','revenue']\n",
    "custom_fields = []\n",
    "custom_fields_nm = 'custom_fields'\n",
    "\n",
    "def build_struct(rec):\n",
    "    rec[custom_fields_nm] = {}\n",
    "    for key in rec:\n",
    "        if key in static_fields:\n",
    "            rec[key] = rec[key]\n",
    "        elif key != custom_fields_nm:\n",
    "            rec[custom_fields_nm][key] = json.dumps(rec[key])\n",
    "            if key not in custom_fields:\n",
    "                custom_fields.append(key)\n",
    "                          \n",
    "    #remove custom fields from the root\n",
    "    for k in custom_fields:\n",
    "        del rec[k]\n",
    "    return rec\n",
    "\n",
    "sales_with_struct = Map.apply(frame = sales_source, f = build_struct)\n",
    "sales_with_struct.printSchema()\n"
   ]
  },
  {
   "cell_type": "code",
   "execution_count": 9,
   "metadata": {},
   "outputs": [
    {
     "data": {
      "application/vnd.jupyter.widget-view+json": {
       "model_id": "",
       "version_major": 2,
       "version_minor": 0
      },
      "text/plain": [
       "FloatProgress(value=0.0, bar_style='info', description='Progress:', layout=Layout(height='25px', width='50%'),…"
      ]
     },
     "metadata": {},
     "output_type": "display_data"
    },
    {
     "name": "stdout",
     "output_type": "stream",
     "text": [
      "+------+---------------+----------+---------------------------------------+------+\n",
      "|date  |categories     |revenue   |custom_fields                          |geo   |\n",
      "+------+---------------+----------+---------------------------------------+------+\n",
      "|1/1/17|Digital        |1738.04848|[463.4264144, \"MyStore\", \"1274.622066\"]|Turkey|\n",
      "|1/1/17|Movies         |3359.74848|[534.1761529, \"MyStore\", \"2825.572327\"]|Turkey|\n",
      "|1/1/17|Industrial     |3553.54288|[1171.128561, \"MyStore\", \"2382.414319\"]|Turkey|\n",
      "|1/1/17|Games          |257.30696 |[66.10850685, \"MyStore\", \"191.1984531\"]|Turkey|\n",
      "|1/1/17|Office Supplies|7479.57508|[6356.354677, \"MyStore\", \"1123.220403\"]|Turkey|\n",
      "|1/1/17|Computers      |787.6508  |[370.4022929, \"MyStore\", \"417.2485071\"]|Turkey|\n",
      "|1/1/17|Books          |1091.6226 |[105.8353184, \"MyStore\", \"985.7872816\"]|Turkey|\n",
      "|1/1/17|Health         |540.40948 |[465.8638668, \"MyStore\", \"74.5456132\"] |Turkey|\n",
      "|1/1/17|Outdoors       |548.13056 |[403.3166732, \"MyStore\", \"144.8138868\"]|Turkey|\n",
      "|1/1/17|Baby Products  |370.02616 |[0.414622363, \"MyStore\", \"369.6115376\"]|Russia|\n",
      "|1/1/17|Home Services  |38.57888  |[36.64182718, \"MyStore\", \"1.937052817\"]|Russia|\n",
      "|1/1/17|Digital        |16.34876  |[16.12578567, \"MyStore\", \"0.222974334\"]|Russia|\n",
      "|1/1/17|Movies         |125.8816  |[76.16463009, \"MyStore\", \"49.71696991\"]|Russia|\n",
      "|1/1/17|Industrial     |597.61976 |[381.5548228, \"MyStore\", \"216.0649372\"]|Russia|\n",
      "|1/1/17|Clothing       |333.0196  |[178.7291818, \"MyStore\", \"154.2904182\"]|Russia|\n",
      "|1/1/17|Games          |85.83664  |[7.517689408, \"MyStore\", \"78.31895059\"]|Russia|\n",
      "|1/1/17|Office Supplies|2518.0236 |[530.8612698, \"MyStore\", \"1987.16233\"] |Russia|\n",
      "|1/1/17|Computers      |515.00916 |[200.4344791, \"MyStore\", \"314.5746809\"]|Russia|\n",
      "|1/1/17|Books          |752.45228 |[668.2570584, \"MyStore\", \"84.19522162\"]|Russia|\n",
      "|1/1/17|Health         |194.38264 |[32.45945915, \"MyStore\", \"161.9231808\"]|Russia|\n",
      "+------+---------------+----------+---------------------------------------+------+\n",
      "only showing top 20 rows"
     ]
    }
   ],
   "source": [
    "sales_with_struct.toDF().show(20,False)"
   ]
  }
 ],
 "metadata": {
  "kernelspec": {
   "display_name": "Sparkmagic (PySpark)",
   "language": "",
   "name": "pysparkkernel"
  },
  "language_info": {
   "codemirror_mode": {
    "name": "python",
    "version": 3
   },
   "mimetype": "text/x-python",
   "name": "pyspark",
   "pygments_lexer": "python3"
  }
 },
 "nbformat": 4,
 "nbformat_minor": 4
}
