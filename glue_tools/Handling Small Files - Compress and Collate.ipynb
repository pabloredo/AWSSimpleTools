{
 "cells": [
  {
   "cell_type": "markdown",
   "metadata": {},
   "source": [
    "# JSON to Parquet and Reduce Number of Files"
   ]
  },
  {
   "cell_type": "markdown",
   "metadata": {},
   "source": [
    "### 1. Import the required libraries:"
   ]
  },
  {
   "cell_type": "code",
   "execution_count": 1,
   "metadata": {},
   "outputs": [
    {
     "name": "stdout",
     "output_type": "stream",
     "text": [
      "Starting Spark application\n"
     ]
    },
    {
     "data": {
      "text/html": [
       "<table>\n",
       "<tr><th>ID</th><th>YARN Application ID</th><th>Kind</th><th>State</th><th>Spark UI</th><th>Driver log</th><th>Current session?</th></tr><tr><td>5</td><td>application_1598046731704_0006</td><td>pyspark</td><td>idle</td><td><a target=\"_blank\" href=\"http://ip-172-32-185-22.ec2.internal:20888/proxy/application_1598046731704_0006/\">Link</a></td><td><a target=\"_blank\" href=\"http://ip-172-32-162-197.ec2.internal:8042/node/containerlogs/container_1598046731704_0006_01_000001/livy\">Link</a></td><td>✔</td></tr></table>"
      ],
      "text/plain": [
       "<IPython.core.display.HTML object>"
      ]
     },
     "metadata": {},
     "output_type": "display_data"
    },
    {
     "data": {
      "application/vnd.jupyter.widget-view+json": {
       "model_id": "",
       "version_major": 2,
       "version_minor": 0
      },
      "text/plain": [
       "FloatProgress(value=0.0, bar_style='info', description='Progress:', layout=Layout(height='25px', width='50%'),…"
      ]
     },
     "metadata": {},
     "output_type": "display_data"
    },
    {
     "name": "stdout",
     "output_type": "stream",
     "text": [
      "SparkSession available as 'spark'.\n"
     ]
    },
    {
     "data": {
      "application/vnd.jupyter.widget-view+json": {
       "model_id": "",
       "version_major": 2,
       "version_minor": 0
      },
      "text/plain": [
       "FloatProgress(value=0.0, bar_style='info', description='Progress:', layout=Layout(height='25px', width='50%'),…"
      ]
     },
     "metadata": {},
     "output_type": "display_data"
    }
   ],
   "source": [
    "import sys\n",
    "from awsglue.transforms import *\n",
    "from awsglue.utils import getResolvedOptions\n",
    "from pyspark.context import SparkContext\n",
    "from awsglue.context import GlueContext\n",
    "from awsglue.dynamicframe import DynamicFrame\n"
   ]
  },
  {
   "cell_type": "code",
   "execution_count": 2,
   "metadata": {},
   "outputs": [
    {
     "data": {
      "application/vnd.jupyter.widget-view+json": {
       "model_id": "",
       "version_major": 2,
       "version_minor": 0
      },
      "text/plain": [
       "FloatProgress(value=0.0, bar_style='info', description='Progress:', layout=Layout(height='25px', width='50%'),…"
      ]
     },
     "metadata": {},
     "output_type": "display_data"
    }
   ],
   "source": [
    "glueContext = GlueContext(SparkContext.getOrCreate())\n",
    "block_size = 128*1024*1024\n",
    "page_size = 1024*1024"
   ]
  },
  {
   "cell_type": "code",
   "execution_count": null,
   "metadata": {
    "collapsed": true
   },
   "outputs": [],
   "source": []
  },
  {
   "cell_type": "markdown",
   "metadata": {},
   "source": [
    "### 2. Create dynamic frame from glue catalog table:\n",
    "\n",
    "Using push-down-predicates to read only the required source partitions. Job bookmarks could work here as well. "
   ]
  },
  {
   "cell_type": "code",
   "execution_count": 26,
   "metadata": {},
   "outputs": [
    {
     "data": {
      "application/vnd.jupyter.widget-view+json": {
       "model_id": "",
       "version_major": 2,
       "version_minor": 0
      },
      "text/plain": [
       "FloatProgress(value=0.0, bar_style='info', description='Progress:', layout=Layout(height='25px', width='50%'),…"
      ]
     },
     "metadata": {},
     "output_type": "display_data"
    }
   ],
   "source": [
    "rawdatasource = glueContext.create_dynamic_frame.from_catalog(\n",
    "    database = \"energy\", \n",
    "    table_name = \"raw_energy_json\", \n",
    "    transformation_ctx = \"rawdatasource\",\n",
    "    push_down_predicate = \"(month == '7' and day in ('4','5','6'))\",\n",
    "    groupFiles = \"inPartition\",\n",
    "    groupSize = block_size)"
   ]
  },
  {
   "cell_type": "code",
   "execution_count": null,
   "metadata": {},
   "outputs": [
    {
     "data": {
      "application/vnd.jupyter.widget-view+json": {
       "model_id": "e169d998bbad453b9ba91219f3a17f4c",
       "version_major": 2,
       "version_minor": 0
      },
      "text/plain": [
       "FloatProgress(value=0.0, bar_style='info', description='Progress:', layout=Layout(height='25px', width='50%'),…"
      ]
     },
     "metadata": {},
     "output_type": "display_data"
    }
   ],
   "source": [
    "rawdatasource.count()"
   ]
  },
  {
   "cell_type": "code",
   "execution_count": null,
   "metadata": {},
   "outputs": [],
   "source": [
    "rawdatasource.printSchema()"
   ]
  },
  {
   "cell_type": "markdown",
   "metadata": {},
   "source": [
    "### 3. Collate\n",
    "Using repartition, if using scala coalesce would be a better choice. The right number of partitions depends on your data profile and desired output file size."
   ]
  },
  {
   "cell_type": "code",
   "execution_count": null,
   "metadata": {},
   "outputs": [],
   "source": [
    "df = rawdatasource.toDF().repartition(2)\n",
    "repartitioned = DynamicFrame.fromDF(dataframe=df, glue_ctx=glueContext, name=\"repartitioned\")"
   ]
  },
  {
   "cell_type": "markdown",
   "metadata": {},
   "source": [
    "### 4. Write to a curated bucket with parquet format. \n",
    "Using glueParquet vs Parquet as it is using optimized file item writer. Use either of this two options:\n",
    "\n",
    "- OPTION 1: Write data into s3. Handle updating partitions externally ( athena alter command or glue crawler):"
   ]
  },
  {
   "cell_type": "code",
   "execution_count": 20,
   "metadata": {},
   "outputs": [
    {
     "data": {
      "application/vnd.jupyter.widget-view+json": {
       "model_id": "",
       "version_major": 2,
       "version_minor": 0
      },
      "text/plain": [
       "FloatProgress(value=0.0, bar_style='info', description='Progress:', layout=Layout(height='25px', width='50%'),…"
      ]
     },
     "metadata": {},
     "output_type": "display_data"
    }
   ],
   "source": [
    "datasink = glueContext.write_dynamic_frame_from_options(\n",
    "    frame = repartitioned, \n",
    "    connection_type = \"s3\", \n",
    "    connection_options = {\n",
    "        \"path\": \"s3://pablo.data.samples/energy/parquet_from_json/\",\n",
    "        \"partitionKeys\": [\"month\",\"day\"]}, \n",
    "    format = \"glueparquet\",\n",
    "    format_options = {\n",
    "        \"compression\": \"snappy\", \n",
    "        \"blockSize\": block_size, \n",
    "        \"pageSize\" : page_size},\n",
    "    transformation_ctx = \"datasink\")"
   ]
  },
  {
   "cell_type": "markdown",
   "metadata": {},
   "source": [
    "- OPTION 2: Write and create/update catalog table partitions. See for details and limitations: https://docs.aws.amazon.com/glue/latest/dg/update-from-job.html"
   ]
  },
  {
   "cell_type": "code",
   "execution_count": null,
   "metadata": {},
   "outputs": [],
   "source": [
    "datasink = glueContext.getSink(connection_type=\"s3\",\n",
    "                               path=\"s3://pablo.data.samples/energy/curated_glueparquet/\",\n",
    "                               enableUpdateCatalog=True,\n",
    "                               updateBehavior=\"UPDATE_IN_DATABASE\",\n",
    "                               partitionKeys=[\"month\", \"day\"],\n",
    "                               transformation_ctx = \"datasink\")\n",
    "datasink.setFormat(format=\"glueparquet\", \n",
    "                   format_options = {\n",
    "                        \"compression\": \"snappy\", \n",
    "                        \"blockSize\": block_size, \n",
    "                        \"pageSize\" : page_size})\n",
    "datasink.setCatalogInfo(catalogDatabase=\"energy\", catalogTableName=\"energy_table_curated_parquet\")\n",
    "datasink.writeFrame(repartitioned)"
   ]
  },
  {
   "cell_type": "code",
   "execution_count": null,
   "metadata": {},
   "outputs": [],
   "source": []
  }
 ],
 "metadata": {
  "kernelspec": {
   "display_name": "Sparkmagic (PySpark)",
   "language": "",
   "name": "pysparkkernel"
  },
  "language_info": {
   "codemirror_mode": {
    "name": "python",
    "version": 3
   },
   "mimetype": "text/x-python",
   "name": "pyspark",
   "pygments_lexer": "python3"
  }
 },
 "nbformat": 4,
 "nbformat_minor": 4
}
